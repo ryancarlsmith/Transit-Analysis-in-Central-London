{
  "nbformat": 4,
  "nbformat_minor": 0,
  "metadata": {
    "colab": {
      "provenance": []
    },
    "kernelspec": {
      "name": "python3",
      "display_name": "Python 3"
    },
    "language_info": {
      "name": "python"
    }
  },
  "cells": [
    {
      "cell_type": "markdown",
      "source": [
        "## **Abstract**"
      ],
      "metadata": {
        "id": "flM5etih3HqV"
      }
    },
    {
      "cell_type": "markdown",
      "source": [
        "This report presents a thorough examination of transit data in London during May, June, and July 2022. Leveraging extensive datasets sourced from public transportation authorities and supplementary sources, the analysis delves into key aspects of London's transit system, shedding light on patterns, trends, and noteworthy events during the specified timeframe. The data used includes the amount of transit by time, holidays and major events in London, and geographic mapping.\n",
        "\n",
        "The report commences with a contextual overview of London's public transportation infrastructure, outlining the important modes of transit, key routes, weather, and time of transit. A detailed examination of ridership statistics provides insights into peak travel times, popular routes, and potential factors affecting them.\n",
        "Furthermore, the report explores the impact of external factors on transit patterns, such as major events, weather conditions, and public holidays. The report shows genuine relationships with causes and effects by correlating these external variables.\n",
        "\n",
        "The key findings are as follows: first, Londoners are 1.3 times more likely to travel in dry weather than wet; the amount of transit peaks in the morning, midday, and early evening; walking is the most common form of transit, transit is equal in opposite directions, transit is strongly, inversely correlated to holidays/major events, and finally the most common areas for transit were popular roads and bridges.\n"
      ],
      "metadata": {
        "id": "hreGgp_73LHB"
      }
    },
    {
      "cell_type": "markdown",
      "source": [
        "## **Introduction**"
      ],
      "metadata": {
        "id": "Xsc1Q40odz2Z"
      }
    },
    {
      "cell_type": "markdown",
      "source": [
        "London's transit system is among the best in the world. It is expansive, efficient, and well-organized. This report will aim to unpack some of the intricacies related to overground services like walking paths, bike rentals, and e-scooters.\n",
        "\n",
        "**Background information**\n",
        "\n",
        "London's urban mobility is shaped by historic walking paths, including those in Hyde Park and along the Thames. Santander Cycles, known as \"Boris Bikes,\" pioneered bike rentals, promoting eco-friendly commuting. Electric scooter rentals have surged, providing an agile option for short distances. Rooted in history, these initiatives reflect London's commitment to diverse, sustainable transportation solutions.\n",
        "\n",
        "**Objective**\n",
        "\n",
        "This report will show interesting trends across weather, routes, timing, and direction of transit. Combining external data and variables will reveal correlations and ideas that are not present at first.\n",
        "\n",
        "**Scope**\n",
        "\n",
        "The scope of this report is limited to 3 months, May, June, and July, in 2022. The modes of transportation are walking, various forms of biking, and e-scooters. The location is limited to Central London.\n"
      ],
      "metadata": {
        "id": "admZynmKd5ET"
      }
    },
    {
      "cell_type": "markdown",
      "source": [
        "## **Cleaning Data**"
      ],
      "metadata": {
        "id": "RqysSuTa4F7q"
      }
    },
    {
      "cell_type": "markdown",
      "source": [
        "The first step was to import pandas for its vast functionality. Then, I downloaded all the 2022 Transit CSV data as a Pandas Dataframe."
      ],
      "metadata": {
        "id": "dxI5bBnI0a4D"
      }
    },
    {
      "cell_type": "code",
      "source": [
        "import pandas as pd\n",
        "\n",
        "traffic_data_df = pd.read_csv('2022-Central.csv')"
      ],
      "metadata": {
        "id": "Z5Ja9Bn0zUXP"
      },
      "execution_count": null,
      "outputs": []
    },
    {
      "cell_type": "markdown",
      "source": [
        "Next, I removed all the duplicates. I did not specify a subset, so it will only filter out entries where the entire row is identical."
      ],
      "metadata": {
        "id": "RCe_DoeX0gxd"
      }
    },
    {
      "cell_type": "code",
      "source": [
        "# Dropping Duplicates\n",
        "cleaned_traffic_data_df = traffic_data_df.drop_duplicates()"
      ],
      "metadata": {
        "id": "Q8EkOzPszoqa"
      },
      "execution_count": null,
      "outputs": []
    },
    {
      "cell_type": "markdown",
      "source": [
        "After that, I removed columns that weren't necessary for analysis.\n",
        "- Year will always be 2022 (by the nature of the dataset), so it is not useful.\n",
        "- The Round is always 'A'; again, it is useless.\n",
        "\n"
      ],
      "metadata": {
        "id": "j20XVx-l0iUh"
      }
    },
    {
      "cell_type": "code",
      "source": [
        "# Removing unnecessary columns\n",
        "columns_to_remove = ['Year', 'Round']\n",
        "cleaned_traffic_data_df = cleaned_traffic_data_df.drop(columns=columns_to_remove)"
      ],
      "metadata": {
        "id": "H8C5OW5l0THE"
      },
      "execution_count": null,
      "outputs": []
    },
    {
      "cell_type": "markdown",
      "source": [
        "I then used the title function on all columns of type String (called 'object' in the dataframe datatype). This way, everything's capitalization is normalized and will not affect count functions for future analysis."
      ],
      "metadata": {
        "id": "rpmoj70E1PY7"
      }
    },
    {
      "cell_type": "code",
      "source": [
        "# Standardize the capitalization of all String columns and removes whitespace\n",
        "string_columns = cleaned_traffic_data_df.select_dtypes(include='object').columns\n",
        "# Capitalizes every word in string columns\n",
        "cleaned_traffic_data_df[string_columns] = cleaned_traffic_data_df[string_columns].apply(lambda x: x.str.title())"
      ],
      "metadata": {
        "id": "mPintjGt1Ohv"
      },
      "execution_count": null,
      "outputs": []
    },
    {
      "cell_type": "markdown",
      "source": [
        "Next, I applied the strip function to all String columns so there is no leading or trailing whitespace. This, again, will prevent any errors in counting."
      ],
      "metadata": {
        "id": "Z1PID_gs1yep"
      }
    },
    {
      "cell_type": "code",
      "execution_count": null,
      "metadata": {
        "id": "h4mVmuuDCp3a"
      },
      "outputs": [],
      "source": [
        "string_columns.to_list()\n",
        "for column in string_columns:\n",
        "  # Removes unnecessary whitespace in all string columns\n",
        "  cleaned_traffic_data_df[column] = cleaned_traffic_data_df[column].astype('str') # Error catching for non-strings\n",
        "  cleaned_traffic_data_df[column] = cleaned_traffic_data_df[column].apply(lambda x: x.strip())"
      ]
    },
    {
      "cell_type": "markdown",
      "source": [
        "Finally, I renamed a couple of columns that could be confusing. I renamed \"Day\" to \"Day Type\" because \"Day\" could mean Monday, Tuesday, Wednesday, etc., whereas \"Day Type\" more clearly describes \"Weekday\" vs. \"Weekend\". I also renamed \"Dir\" to \"Direction\" because the word is not commonly shortened and could confuse users."
      ],
      "metadata": {
        "id": "UbIAZKTs2MjX"
      }
    },
    {
      "cell_type": "code",
      "source": [
        "# Rename the day and dir columns so there is no confusion\n",
        "new_column_names = {'Day': 'Day Type', 'Dir': 'Direction'}\n",
        "cleaned_traffic_data_df.rename(columns=new_column_names, inplace=True)"
      ],
      "metadata": {
        "id": "Cu3T2_vx2MLi"
      },
      "execution_count": null,
      "outputs": []
    },
    {
      "cell_type": "markdown",
      "source": [
        "## **Analyzing Data**"
      ],
      "metadata": {
        "id": "0RDcYhXZ_4tO"
      }
    },
    {
      "cell_type": "markdown",
      "source": [
        "### **Weather Analysis**"
      ],
      "metadata": {
        "id": "yA6rA5tly55q"
      }
    },
    {
      "cell_type": "code",
      "source": [
        "import plotly.express as px\n",
        "import matplotlib.pyplot as plt\n",
        "\n",
        "# Weather analysis\n",
        "weather_bike_count = cleaned_traffic_data_df.groupby('Weather')['Count'].sum() # Stores the sums of wet and dry counts\n",
        "weather_times_count = cleaned_traffic_data_df['Weather'].value_counts() # Stores the total number of wet and dry times there are\n",
        "\n",
        "num_dry_times = weather_times_count[0] # Number of dry times\n",
        "num_wet_times = weather_times_count[1] # Number of wet times\n",
        "\n",
        "dry_transit = weather_bike_count[0] # Amount of transit during dry times\n",
        "wet_transit = weather_bike_count[1] # Amount of transit during wet times\n",
        "\n",
        "bike_rentals_per_dry_time = dry_transit/num_dry_times # Amount of transit PER dry time\n",
        "bike_rentals_per_wet_time = wet_transit/num_wet_times # Amount of transit PER wet time\n",
        "\n",
        "# Results\n",
        "# Compares the per capita amount of transit because there are many more dry times than wet\n",
        "print(f'People are {round(bike_rentals_per_dry_time/bike_rentals_per_wet_time,2)} times more likely to rent bikes in dry weather than in wet weather')\n"
      ],
      "metadata": {
        "id": "fYq4Keyq__vb"
      },
      "execution_count": null,
      "outputs": []
    },
    {
      "cell_type": "markdown",
      "source": [
        "This analysis shows Londoners are about 1.3 times more likely to cargo bikes, ride scooters, ride conventional bikes, or walk while the weather is dry than wet. This disparity is for obvious reasons: discomfort of being wet, danger of slipping, etc. As a result, Londoners are more likely to either stay home or take more convenient forms of transit (I.E. buses, tubes, cars) while it is wet.\n",
        "\n",
        "To find this conclusion, I computed the total sum of transit while it was dry and wet. I then divided that amount by the number of dry and wet times, respectively. This is necessary because the data set has far more dry times than wet times. As a result, comparing the raw amount of transit while wet versus dry would not accurately depict the behavior of Londoners. The results would be hugely skewed in \"favor\" of the dry times simply because it is dry far more than it is wet.\n"
      ],
      "metadata": {
        "id": "-hbVHM9sW3sf"
      }
    },
    {
      "cell_type": "markdown",
      "source": [
        "### **Time Analysis**"
      ],
      "metadata": {
        "id": "AFqG4qFTwGI1"
      }
    },
    {
      "cell_type": "code",
      "source": [
        "# Time analysis\n",
        "time_and_count_df = cleaned_traffic_data_df.groupby('Time')['Count'].sum().reset_index()\n",
        "\n",
        "# Plotting the traffic by time\n",
        "time_count_bar = px.bar(time_and_count_df, x='Time', y='Count', title='Amount of Transit by Time')\n",
        "time_count_bar.show()"
      ],
      "metadata": {
        "id": "jbeD5Z_8wFuW"
      },
      "execution_count": null,
      "outputs": []
    },
    {
      "cell_type": "markdown",
      "source": [
        "I found the distribution of transit in relation to time was multimodal with three peaks. The timing makes sense when thinking about the work day. The two most significant peaks are in the morning (at 8:45) and early evening (18:00), which correlate to commute times. The third peak is during midday (13:00), likely the lunchbreak transit rush."
      ],
      "metadata": {
        "id": "_evFcCjZYXXZ"
      }
    },
    {
      "cell_type": "markdown",
      "source": [
        "### **Mode Analysis**"
      ],
      "metadata": {
        "id": "ieGaPDPTv1Fn"
      }
    },
    {
      "cell_type": "code",
      "source": [
        "# Type of transit analysis\n",
        "mode_and_count_df = cleaned_traffic_data_df.groupby('Mode')['Count'].sum().reset_index()\n",
        "mode_and_count_df = mode_and_count_df.sort_values(by=['Count'], ascending=False)\n",
        "\n",
        "# Plotting the usage of each mode\n",
        "mode_count_bar = px.bar(mode_and_count_df, x='Mode', y='Count', title='Amount of Transit by Mode')\n",
        "mode_count_bar.show()"
      ],
      "metadata": {
        "id": "-IWVYEQfv0dM"
      },
      "execution_count": null,
      "outputs": []
    },
    {
      "cell_type": "markdown",
      "source": [
        "This finding shows just how much Londoners favor walking to other modes of transport measured. It is about 4.24 times more common than conventional bike rentals, the second most popular category. Reasons for this phenomenon include the safety, low cost, and simplicity of walking."
      ],
      "metadata": {
        "id": "1mhRQj7pYsze"
      }
    },
    {
      "cell_type": "markdown",
      "source": [
        "### **Direction Analysis**"
      ],
      "metadata": {
        "id": "JWi8adDLvV0E"
      }
    },
    {
      "cell_type": "code",
      "source": [
        "# Direction of transit analysis\n",
        "dir_and_count_df = cleaned_traffic_data_df.groupby('Direction')['Count'].sum().reset_index()\n",
        "dir_and_count_df = dir_and_count_df.sort_values(by=['Count'], ascending=False)\n",
        "\n",
        "# Plotting the usage of each mode\n",
        "dir_and_count_df = px.bar(dir_and_count_df, x='Direction', y='Count', title='Amount of Transit by Direction')\n",
        "dir_and_count_df.show()\n",
        "\n",
        "# Route of transit analysis\n",
        "route_and_count_df = cleaned_traffic_data_df.groupby('Path')['Count'].sum().reset_index()\n",
        "route_and_count_df = route_and_count_df.sort_values(by=['Count'], ascending=False)\n",
        "\n",
        "# Plotting the usage of each mode\n",
        "route_and_count_bar = px.bar(route_and_count_df, x='Path', y='Count', title='Amount of Transit by Route')\n",
        "route_and_count_bar.show()"
      ],
      "metadata": {
        "id": "a5ZIEsBBvUcB"
      },
      "execution_count": null,
      "outputs": []
    },
    {
      "cell_type": "markdown",
      "source": [
        "This report showed equality in opposite directions of travel, both generally and on specific routes. This means northbound travel was nearly equal to southbound travel, as was westbound to eastbound. This phenomenon is obvious once visualized and given to the reader, yet at first, one would likely not think about it. The reasoning is simple: most trips are round trips, not one-way. School, work, day-trips, etc. are all round trips."
      ],
      "metadata": {
        "id": "Hfr8vy5Rl134"
      }
    },
    {
      "cell_type": "markdown",
      "source": [
        "### **Month Analysis**"
      ],
      "metadata": {
        "id": "ZFdGSxi7vKtp"
      }
    },
    {
      "cell_type": "code",
      "source": [
        "# Dataframe containing major events and holidays of May, June, July 2022\n",
        "holidays_df = pd.read_csv('UK Holidays.csv')\n",
        "holidays_df['Month'].value_counts().plot(kind='bar', title = \"Number of Holidays/Major Events by Month\")\n",
        "\n",
        "# Month Analysis\n",
        "cleaned_traffic_data_df_date = cleaned_traffic_data_df\n",
        "cleaned_traffic_data_df_date['Date'] = cleaned_traffic_data_df['Date'].apply(lambda x: x[3:5])\n",
        "month_and_count_df = cleaned_traffic_data_df_date.groupby('Date')['Count'].sum().reset_index()\n",
        "\n",
        "counts = cleaned_traffic_data_df_date['Date'].value_counts() # Counts the number of times each month appears in the dataset\n",
        "\n",
        "# Switching the count to per month\n",
        "month_and_count_df['Count'][0] = month_and_count_df['Count'][0]/counts.loc['05']\n",
        "month_and_count_df['Count'][1] = month_and_count_df['Count'][1]/counts.loc['06']\n",
        "month_and_count_df['Count'][2] = month_and_count_df['Count'][2]/counts.loc['07']\n",
        "\n",
        "# Plotting the transit by month and holidays by Month\n",
        "month_and_count_df.plot.bar(x=\"Date\", y=\"Count\", title=\"Amount of Transit by Month\");\n"
      ],
      "metadata": {
        "id": "kTRsdlg2uLSb"
      },
      "execution_count": null,
      "outputs": []
    },
    {
      "cell_type": "markdown",
      "source": [
        "This analysis revealed an interesting trend. I found July was the most popular transit month, followed by June, then May. At first, I theorized the drop-off was purely caused by the start of summer vacation, and travel would naturally pick up. However, upon further investigation, I also realized it was also inversely correlated with holidays and significant events (i.e., Wimbledon or The Commonwealth Games). This correlation between the number of holidays/major events and the amount of transit means the more holidays/major events there are in a month, the less transit there will be (at least for the months of May, June, and July). For this analysis, I had to divide the amount of transit by the number of times the month appeared, similar to my analysis for weather. If I had not done so, the results would be the exact opposite (May would be the largest, and July would be the smallest).\n",
        "\n",
        "This table demonstrates the concept:\n",
        "\n",
        "\n",
        "![3B2148E8-16C8-4B60-B617-0E3C93438685_4_5005_c.jpeg](data:image/jpeg;base64,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)\n",
        "\n",
        "It clearly shows the skewness that would appear if I had not changed the graph to plot the transit PER month.\n",
        "\n"
      ],
      "metadata": {
        "id": "8S4x2UlbcFDj"
      }
    },
    {
      "cell_type": "markdown",
      "source": [
        "### **Heat Map Analysis**"
      ],
      "metadata": {
        "id": "Hsru39li7evI"
      }
    },
    {
      "cell_type": "code",
      "source": [
        "import folium\n",
        "from folium.plugins import HeatMap\n",
        "\n",
        "# Loading in the 2 necessary dataframes\n",
        "geo_df = pd.read_csv('Count locations.csv')\n",
        "unqID_and_count_df = cleaned_traffic_data_df_date.groupby('UnqID')['Count'].sum().reset_index()\n",
        "\n",
        "# Cleaning geo_df\n",
        "\n",
        "# Removing unnecessary columns\n",
        "columns_to_remove = ['Which folder?', 'Shared sites', 'Functional area for monitoring', 'Road type', 'Is it on the strategic CIO panel?', 'Easting (UK Grid)', 'Northing (UK Grid)']\n",
        "geo_df = geo_df.drop(columns=columns_to_remove)\n",
        "\n",
        "# Standardize the capitalization of all String columns and removes whitespace\n",
        "string_columns = geo_df.select_dtypes(include='object').columns\n",
        "# Capitalizes every word in string columns\n",
        "geo_df[string_columns] = geo_df[string_columns].apply(lambda x: x.str.title())\n",
        "\n",
        "merged_df = pd.merge(geo_df, unqID_and_count_df, left_on=\"Site ID\", right_on=\"UnqID\")\n",
        "\n",
        "# Create a Folium map centered at a specific location\n",
        "map_center = [merged_df['Latitude'].mean(), merged_df['Longitude'].mean()]\n",
        "my_map = folium.Map(location=map_center, zoom_start=13)\n",
        "\n",
        "# Create a HeatMap layer based on the data in the 'Count' column\n",
        "heat_data = [[row['Latitude'], row['Longitude'], row['Count']] for index, row in merged_df.iterrows()]\n",
        "HeatMap(heat_data).add_to(my_map)\n",
        "\n",
        "# Displaying the map\n",
        "my_map\n"
      ],
      "metadata": {
        "id": "H9XtlJ688AYK"
      },
      "execution_count": null,
      "outputs": []
    },
    {
      "cell_type": "markdown",
      "source": [
        "This heat map clearly displays the behavior of Londoners. The most active transit areas are, expectedly, popular streets like King's Cross Road and Oxford Street and bridges like Westminster Bridge and London Bridge. These areas make sense as hot spots for transit as they are both routes common for tourists and locals."
      ],
      "metadata": {
        "id": "_sig5Y0yCtW5"
      }
    },
    {
      "cell_type": "markdown",
      "source": [
        "## **Keywords**"
      ],
      "metadata": {
        "id": "6mMpmBH8moYe"
      }
    },
    {
      "cell_type": "markdown",
      "source": [
        "Some keywords of this report are time, weather, and month which all play an essential role in the amount of transit at a given time.\n",
        "\n",
        "Other keywords include pedestrian, bike, and route, all critical descriptors of a given piece of traffic.\n"
      ],
      "metadata": {
        "id": "AWm3KRBImrbz"
      }
    },
    {
      "cell_type": "markdown",
      "source": [
        "## **Methods**"
      ],
      "metadata": {
        "id": "G0kYkapi3mM8"
      }
    },
    {
      "cell_type": "markdown",
      "source": [
        "**Data**\n",
        "\n",
        "This report required lots of data to draw useful conclusions. First, the walking, biking, and scootering transit data from Central London provided the core statistics on how many people used each mode of transportation. The holidays and major events sheet was helpful in finding correlations between monthly trends and monthly events. Lastly, the mapping data provided a way to visualize the most common areas of transit in Central London.\n",
        "\n",
        "**Methodology**\n",
        "\n",
        "The main methods I employed were visualization techniques. I frequently divided the data by the number of times it appeared (to get an objective number) and graphed it against a weather pattern or month. I also put graphs side by side to clearly demonstrate correlations. Lastly, I visualized data by mapping it.\n",
        "\n",
        "**Tools**\n",
        "\n",
        "The entire project was completed in Python 3 using libraries such as Pandas, MatPlotLib, Folium, and Plotly Express.\n"
      ],
      "metadata": {
        "id": "sOFYRoFY3oQ1"
      }
    },
    {
      "cell_type": "markdown",
      "source": [
        "## **Results**"
      ],
      "metadata": {
        "id": "44zubyZa_Vsy"
      }
    },
    {
      "cell_type": "markdown",
      "source": [
        "This report revealed many interesting findings about Londoners' habits regarding transit.\n",
        "\n",
        "First, Londoners were 1.3 times more likely to travel by walking, biking, or scooting when dry than wet. This was true for various reasons relating to comfort and convenience.\n",
        "\n",
        "The timing of transit was a 3-peak multimodal model. The peaks were, expectedly, during commute hours (early morning and evening) and during lunch around 13:00.\n",
        "\n",
        "Also, the most popular form of transit was walking by a significant margin. Similar to the weather phenomena, the reasons relate to comfort and convenience.\n",
        "\n",
        "The direction of transit also had an interesting result. The traffic was nearly equal in opposite directions, indicating almost every trip was a round trip.\n",
        "\n",
        "Another finding was that transit differed significantly by month. I found this differentiation was strongly, inversely correlated to the number of holidays and major events occurring during that month. This demonstrates people tend to travel less during breaks. They likely prefer to rest at home on off days than travel. The breaks in work/school contribute largely to the downturn.\n",
        "\n",
        "Finally, I found that the most popular areas for transit were popular streets and bridges used by both locals and tourists.\n"
      ],
      "metadata": {
        "id": "v4D4jDSF_YO2"
      }
    },
    {
      "cell_type": "markdown",
      "source": [
        "## **Conclusion**"
      ],
      "metadata": {
        "id": "k-q7QHp83pf2"
      }
    },
    {
      "cell_type": "markdown",
      "source": [
        "\n",
        "In conclusion, this report provides a comprehensive and insightful analysis of transit data in London for the months of May, June, and July 2022. Leveraging rich datasets from various sources, the examination encompasses key facets of London's transit system, offering valuable insights into patterns, trends, and notable events.\n",
        "\n",
        "The detailed examination of ridership statistics uncovers crucial information about peak travel times, popular routes, and potential influencing factors. The report goes beyond mere observation by delving into the impact of external variables, such as weather conditions, major events/public holidays, and specific areas establishing clear correlations and causations.\n",
        "\n",
        "The key findings highlight important aspects of London's transit behavior, including preferences in weather conditions, peak transit times, prevalent modes of transit, and the influence of external events. These findings contribute to a deeper understanding of the intricacies of London's transit system."
      ],
      "metadata": {
        "id": "mGccH6wJ3rQK"
      }
    }
  ]
}